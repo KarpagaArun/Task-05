{
 "cells": [
  {
   "cell_type": "code",
   "execution_count": 2,
   "id": "ed6fdc08-191a-4190-b588-cc46fd415c74",
   "metadata": {},
   "outputs": [
    {
     "name": "stdout",
     "output_type": "stream",
     "text": [
      "<class 'pandas.core.frame.DataFrame'>\n",
      "RangeIndex: 40881 entries, 0 to 40880\n",
      "Data columns (total 16 columns):\n",
      " #   Column                  Non-Null Count  Dtype \n",
      "---  ------                  --------------  ----- \n",
      " 0   video_id                40881 non-null  object\n",
      " 1   trending_date           40881 non-null  object\n",
      " 2   title                   40881 non-null  object\n",
      " 3   channel_title           40881 non-null  object\n",
      " 4   category_id             40881 non-null  int64 \n",
      " 5   publish_time            40881 non-null  object\n",
      " 6   tags                    40881 non-null  object\n",
      " 7   views                   40881 non-null  int64 \n",
      " 8   likes                   40881 non-null  int64 \n",
      " 9   dislikes                40881 non-null  int64 \n",
      " 10  comment_count           40881 non-null  int64 \n",
      " 11  thumbnail_link          40881 non-null  object\n",
      " 12  comments_disabled       40881 non-null  bool  \n",
      " 13  ratings_disabled        40881 non-null  bool  \n",
      " 14  video_error_or_removed  40881 non-null  bool  \n",
      " 15  description             39585 non-null  object\n",
      "dtypes: bool(3), int64(5), object(8)\n",
      "memory usage: 4.2+ MB\n",
      "Before Cleaning:\n",
      " None\n",
      "<class 'pandas.core.frame.DataFrame'>\n",
      "Index: 39585 entries, 0 to 40880\n",
      "Data columns (total 16 columns):\n",
      " #   Column                  Non-Null Count  Dtype              \n",
      "---  ------                  --------------  -----              \n",
      " 0   video_id                39585 non-null  object             \n",
      " 1   trending_date           39585 non-null  object             \n",
      " 2   title                   39585 non-null  object             \n",
      " 3   channel_title           39585 non-null  object             \n",
      " 4   category_id             39585 non-null  category           \n",
      " 5   publish_time            39585 non-null  datetime64[ns, UTC]\n",
      " 6   tags                    39585 non-null  category           \n",
      " 7   views                   39585 non-null  int64              \n",
      " 8   likes                   39585 non-null  int64              \n",
      " 9   dislikes                39585 non-null  int64              \n",
      " 10  comment_count           39585 non-null  int64              \n",
      " 11  thumbnail_link          39585 non-null  object             \n",
      " 12  comments_disabled       39585 non-null  bool               \n",
      " 13  ratings_disabled        39585 non-null  bool               \n",
      " 14  video_error_or_removed  39585 non-null  bool               \n",
      " 15  description             39585 non-null  object             \n",
      "dtypes: bool(3), category(2), datetime64[ns, UTC](1), int64(4), object(6)\n",
      "memory usage: 4.5+ MB\n",
      "After Cleaning:\n",
      " None\n"
     ]
    }
   ],
   "source": [
    "import pandas as pd\n",
    "\n",
    "# Load the dataset\n",
    "file_path = \"CAvideos.csv\"\n",
    "df = pd.read_csv(file_path, encoding='latin1')  # Adjust encoding if needed\n",
    "\n",
    "# Display basic info before cleaning\n",
    "print(\"Before Cleaning:\\n\", df.info())\n",
    "\n",
    "# Remove duplicate rows\n",
    "df.drop_duplicates(inplace=True)\n",
    "\n",
    "# Handle missing values (drop or fill with appropriate values)\n",
    "df.dropna(inplace=True)  # You can also use df.fillna(value) for specific handling\n",
    "\n",
    "# Convert date columns if present (modify column name accordingly)\n",
    "if 'publish_time' in df.columns:\n",
    "    df['publish_time'] = pd.to_datetime(df['publish_time'], errors='coerce')\n",
    "\n",
    "# Convert categorical columns to category type (modify column names accordingly)\n",
    "categorical_columns = ['category_id', 'tags']  # Adjust based on dataset\n",
    "for col in categorical_columns:\n",
    "    if col in df.columns:\n",
    "        df[col] = df[col].astype('category')\n",
    "\n",
    "# Display basic info after cleaning\n",
    "print(\"After Cleaning:\\n\", df.info())\n",
    "\n",
    "# Save cleaned dataset\n",
    "df.to_csv(\"CAvideos_cleaned.csv\", index=False)\n"
   ]
  },
  {
   "cell_type": "code",
   "execution_count": null,
   "id": "ad2959e3-05d5-43c4-b99c-6c8b5dad29b5",
   "metadata": {},
   "outputs": [],
   "source": []
  }
 ],
 "metadata": {
  "kernelspec": {
   "display_name": "Python 3 (ipykernel)",
   "language": "python",
   "name": "python3"
  },
  "language_info": {
   "codemirror_mode": {
    "name": "ipython",
    "version": 3
   },
   "file_extension": ".py",
   "mimetype": "text/x-python",
   "name": "python",
   "nbconvert_exporter": "python",
   "pygments_lexer": "ipython3",
   "version": "3.12.7"
  }
 },
 "nbformat": 4,
 "nbformat_minor": 5
}
